{
 "cells": [
  {
   "cell_type": "markdown",
   "metadata": {},
   "source": [
    "# Implementación de Algo SOM\n",
    "### Desarrollado por :\n",
    "\n",
    "Juan Camilo Cática"
   ]
  },
  {
   "cell_type": "code",
   "execution_count": 4,
   "metadata": {},
   "outputs": [],
   "source": [
    "import numpy as np\n",
    "import matplotlib.pyplot as plt\n",
    "from sklearn.preprocessing import MinMaxScaler"
   ]
  },
  {
   "cell_type": "code",
   "execution_count": 5,
   "metadata": {},
   "outputs": [
    {
     "data": {
      "text/plain": [
       "(14, 2)"
      ]
     },
     "execution_count": 5,
     "metadata": {},
     "output_type": "execute_result"
    }
   ],
   "source": [
    "data = np.array([\n",
    "    [1,1],\n",
    "    [1.2,0.9],\n",
    "    [1.1,1.1],\n",
    "    [0.89,1.3],\n",
    "    [4,4],\n",
    "    [4.2,3.9],\n",
    "    [4.1,4.1],\n",
    "    [3.89,4.3],\n",
    "    [1,4],\n",
    "    [0.9,3.9],\n",
    "    [1.1,4.1],\n",
    "    [4,1],\n",
    "    [3.9,0.9],\n",
    "    [4.1,1.1],\n",
    "])\n",
    "data = MinMaxScaler(feature_range=(-1,1)).fit_transform(data,None)\n",
    "y = [0,0,0,0,1,1,1,1,2,2,2,3,3,3]\n",
    "data.shape"
   ]
  },
  {
   "cell_type": "code",
   "execution_count": 6,
   "metadata": {},
   "outputs": [
    {
     "data": {
      "image/png": "[encoded data removed]",
      "text/plain": [
       "<Figure size 432x288 with 1 Axes>"
      ]
     },
     "metadata": {},
     "output_type": "display_data"
    }
   ],
   "source": [
    " plt.scatter(data[:,0],data[:,1],c=y);"
   ]
  },
  {
   "cell_type": "code",
   "execution_count": 7,
   "metadata": {},
   "outputs": [
    {
     "data": {
      "text/plain": [
       "(14, 2)"
      ]
     },
     "execution_count": 7,
     "metadata": {},
     "output_type": "execute_result"
    }
   ],
   "source": [
    "data.shape"
   ]
  },
  {
   "cell_type": "markdown",
   "metadata": {},
   "source": [
    "### Finción de actualización de pesos del Algoritmo SOM"
   ]
  },
  {
   "cell_type": "markdown",
   "metadata": {},
   "source": [
    "$ 𝒘_𝒋(𝑡 + 1) = 𝒘_𝒋(𝑡) + 𝛼 V(d(i,j),g)(𝒙_𝒊 − 𝒘_𝒋(𝑡)) $"
   ]
  },
  {
   "cell_type": "markdown",
   "metadata": {},
   "source": [
    "## Clase SOM2D"
   ]
  },
  {
   "cell_type": "code",
   "execution_count": 25,
   "metadata": {},
   "outputs": [],
   "source": [
    "import numpy as np\n",
    "import pandas as pd\n",
    "import math\n",
    "from sklearn.base import BaseEstimator, TransformerMixin\n",
    "\n",
    "class SOM2D(BaseEstimator, TransformerMixin):\n",
    "    \"\"\"\n",
    "    Esta clase implementa un SOM (Self-Organizing Map) a partir de las dimensiones establecidas\n",
    "    desde el método constructor.\n",
    "    \n",
    "    Desarrollado por:\n",
    "        Juan Camilo Cática Buendía.\n",
    "    \"\"\"\n",
    "    \n",
    "    def __init__(self, hight, widht, alpha = 0.2, distance = 2, epochs = 100):\n",
    "        \"\"\"\n",
    "        Método constructor de la clase SOM2D. \n",
    "        \n",
    "        Este método inicializa algunos de los atributos implementados por el algoritmo a través de \n",
    "        los parametros de entrada. Sin embargo, algunos de estos son definidos tras el entrenamiento del \n",
    "        algotimo.\n",
    "        \n",
    "        La red neuronal o mapa que se genera con la implementación de esta clase es, en terminos estrictos,\n",
    "        una matriz con número de filas igual a 'hight' y número de columans igual a 'widht'.\n",
    "        \n",
    "        Parametros:\n",
    "        -----------\n",
    "            hight: int.\n",
    "                Establece la alturna en número de unidades de la red neuronal (SOM), es decir, el número\n",
    "                de filas de la matriz que simula la red.\n",
    "                \n",
    "            widht: int.\n",
    "                Establece la anchura en número de unidades de la red neuronal (SOM), es decir, el número\n",
    "                de columnas de la matriz que simula la red.\n",
    "                \n",
    "            alpha: float, default 0.2.\n",
    "                Se define como la taza de apendizaje y olvido del algotirmo SOM. \n",
    "                \n",
    "            distance: float, default 2.\n",
    "                Es la distancia maxima a la cual se desarrollará la propagación de actualización\n",
    "                de los pesos de las neuronas vecinas. Es análogo a la técnica 'spreading activation'.\n",
    "                \n",
    "            epochs: int, default 100.\n",
    "                Número de epocas definidas para desarrollar el entrenamiento de estimador.\n",
    "                \n",
    "        Atributos:\n",
    "        ----------\n",
    "            self.proximity_matrix:\n",
    "                Este atributo es una matriz cuadrada con dimensiónes laterales iguales al número de neuronas\n",
    "                o unidades 'self._units' definidas  por el producto entre los parametros hight y widht.\n",
    "                \n",
    "                Esta matriz contine las distancias en terminos de la composición del mapa entre cada una \n",
    "                de las neuronas que compone la red. \n",
    "                \n",
    "                Este atributo se inicializa al momento de compilar la red, es decir, cuando se ejecuta\n",
    "                el método 'self.compile()'.  \n",
    "                \n",
    "            self.decay_values:\n",
    "                Este atributo es un diccionario que contiene el valor de decaimiento para cada neruona que \n",
    "                se encuentre en el rango de proximidad de cada una de las neuronas de la red que puedan\n",
    "                llegar a ser la neurona ganadora en cada iteración.\n",
    "                \n",
    "                self.decay_values:{\n",
    "                    neurona_ganadora0: [(neurona1, decay_val),(neurona2, decay_val),...,(neuronaN, decay_val)]\n",
    "                    neurona_ganadora1: [(neurona0, decay_val),(neurona2, decay_val),...,(neuronaM, decay_val)]\n",
    "                    ...\n",
    "                }\n",
    "                \n",
    "                eje:\n",
    "                    self.decay_values:{\n",
    "                        0:[(1,0.98), (2,0.95), ... (n, ##)]\n",
    "                        1:[(0,0.98), (2,0.91), ... (m, ##)]\n",
    "                        ...\n",
    "                        k:[(0,0.83), (1,0.95), ... (l, ##)]\n",
    "                    }\n",
    "                    donde: n, m, l son el maximo de neuronas que entran en el radio de cobertura definido\n",
    "                    por 'distance' cuando la neurona ganadora en cada iteración reuslta ser 0, 1, ó k.\n",
    "                    \n",
    "            self.mean_distances:\n",
    "                Este atributo es un vector que almacena la distncia media de cada neurona con respecto a las\n",
    "                demás en termino de los vectores de pesos.\n",
    "                \n",
    "                Este atributo se emplea para generar la gráfica tipo panal de abeja por medio del método\n",
    "                'self.plot()' cuando el valor del parametro 'som_map' de dicho método es igual a \"distance\".\n",
    "            \n",
    "            self.label_matrix:\n",
    "                Esta matriz se inicializa cuando se ha entrenado el estimador con etiqeutas de clase. Donde\n",
    "                el número de filas representa el numero de neuronas y el número de coumnas las etiquetas de\n",
    "                clase.\n",
    "                    \n",
    "                Los valores contenidos en esta matriz son basicamente el número de registros que han sido \n",
    "                asociado a cada neurona. Estos valores pueden estar modificados en por efectos de la función\n",
    "                de decaimiento.\n",
    "            \n",
    "            self.labels:\n",
    "                Este atributo es una vector de etiquetas, el cual se obtiene a partir de la matriz \n",
    "                'self.label_matrix', Sabiendo que cada fila de la matriz 'self.label_matrix' representa una\n",
    "                neurona, y los valores de las columnas representan las etiquetas, el valor de 'self.labels'\n",
    "                se optiene a partir del valor maximo de cada columna para cada una de las filas (neuronas).\n",
    "                \n",
    "            self.W\n",
    "                Este atributo es una matriz que representa los vectores de pesos de cada una de las\n",
    "                neuronas de la red neuronal del  algorimo SOM. Esta matriz se inicializa al momento de \n",
    "                entrenar el modelo, es decir al momento de invocar el metodo 'self.fit()'.\n",
    "                \n",
    "            self.quantization_error: float\n",
    "                Error de cuantificación sobre el conjunto de datos de entrenamiento.\n",
    "                \n",
    "            IMPORTANTE:    \n",
    "                Ejemplo de la Matriz de neuronas del Algoritmo SOM (Representación Matricial):\n",
    "                        j\n",
    "                      0,1,2\n",
    "                    i 3,4,5\n",
    "                      6,7,8\n",
    "\n",
    "                La matriz anterior es una representación reordenada t reformateada del vector de neuronas.\n",
    "                La siguiente matriz es la matriz de priximidad (self.proximity_matrix) la cual contiene las \n",
    "                distancias en terminos del arreglo de la matriz de cada una de las neuronas en la representación\n",
    "                matricial.\n",
    "                           k1\n",
    "                       0 1 2 3 4 5 \n",
    "                       -----------\n",
    "                    0| 0 1 2 1 . . \n",
    "                    1| 1 0 1 . 1 . \n",
    "                k2  2| 2 1 0 \n",
    "                    3| 1 .   0\n",
    "                    4| . 1     0\n",
    "                    5| . .       0\n",
    "        \"\"\"\n",
    "        # -------------------------------------------------\n",
    "        # ATRIBUTOS DEFINIDOS POR LOS PARÁMETROS DE ENTRADA\n",
    "        #\n",
    "        self._widht = widht\n",
    "        self._hight = hight\n",
    "        self._alpha = alpha\n",
    "        self._distance = distance\n",
    "        self._epochs = epochs\n",
    "        self._units = hight*widht\n",
    "        \n",
    "        # ---------------------------------------------------\n",
    "        # ATRIBUTOS DE CONTROL DE ENTRENAMIENTO Y COMPILACIÓN\n",
    "        #\n",
    "        self._compiled = False\n",
    "        self._trained = False\n",
    "        self._labeled = False\n",
    "        \n",
    "        # ---------------------------------------------------------------\n",
    "        # ATRIBUTOS QUE SE DEFINEN DURANTE LA COMPILACIÓN Y ENTRENAMIENTO\n",
    "        #\n",
    "        self.proximity_matrix = None\n",
    "        self.decay_values = dict()\n",
    "        self.mean_distances = []\n",
    "        self.label_matrix = []\n",
    "        self.labels = []\n",
    "        self.W = None\n",
    "        self.quantization_error = -1\n",
    "    \n",
    "    def fit(self, X, y = None):\n",
    "        \"\"\"\n",
    "        Método de entrenamiento.\n",
    "        \n",
    "        Este método se ejecuta en cuatro etapas, las cuales son:\n",
    "            1.  ETAPA DE ACTUALIZACIÓN DE LOS PESOS DE LAS NEURONAS. \n",
    "                Esto se desarrolla bajo el algoritmo SOM.\n",
    "                $ 𝒘_𝒋(𝑡 + 1) = 𝒘_𝒋(𝑡) + 𝛼 V(d(i,j),g)(𝒙_𝒊 − 𝒘_𝒋(𝑡)) $\n",
    "                \n",
    "            2.  GENERACIÓN DE DISTANCIAS MEDIAS ENTRE NEURONAS.\n",
    "            \n",
    "            \n",
    "            3.  ETIQUETAS DE LAS NEURONAS.\n",
    "            \n",
    "            \n",
    "            4.  CÁLCULO DEL ERROR DE CUANTIFICACION (QE: QUANTIFICATION ERROR).\n",
    "            \n",
    "        \n",
    "        ADVERTENCIA: \n",
    "            Los datos de entrada por el vector 'y' deben estar codificados de 0 a n.\n",
    "            Donde el valor de 'n' es el númeor de clases posibles.\n",
    "            \n",
    "        IMPORTANTE:\n",
    "            Este método no se encuentra optimizado en términos de reutilización de código.\n",
    "            En cada etapa se implementa código similar. (REVISAR POSIBILIDADES).\n",
    "                   \n",
    "        Parametro:\n",
    "        ----------\n",
    "        \n",
    "            X: numpy.array\n",
    "                Conjunto de datos sin etiquetas de clase.\n",
    "            \n",
    "            y: list or numpy.array, default None.\n",
    "                Etiquetas de classe para cada uno de los registros de 'X'.\n",
    "            \n",
    "        \"\"\"\n",
    "        assert self._compiled, \"No se ha compilado la red neuronal (SOM).\"\n",
    "        assert not self._trained, \"La red ya fue entrenada\"\n",
    "        _, n_variables = X.shape\n",
    "        self.W = np.random.randn(self._units, n_variables)\n",
    "        self.W_old = self.W.copy()\n",
    "        serie_i = pd.Series(range(len(X)))\n",
    "        \n",
    "        # ---------------------------------------------------\n",
    "        # ETAPA DE ACTUALIZACIÓN DE LOS PESOS DE LAS NEURONAS\n",
    "        #\n",
    "        for epoch in range(self._epochs):\n",
    "            for i in serie_i.sample(frac=1):\n",
    "                nomrs = []\n",
    "                for W_j in self.W:\n",
    "                    nomrs.append(np.linalg.norm(X[i] - W_j))\n",
    "                wn = np.argmin(nomrs)\n",
    "                 \n",
    "                for j, decay_val in self.decay_values[wn]:\n",
    "                    self.W[j] = self._update(self.W[j], X[i], decay_val)\n",
    "        \n",
    "        # ----------------------------------------------\n",
    "        # GENERACIÓN DE DISTANCIAS MEDIAS ENTRE NEURONAS\n",
    "        #\n",
    "        for i in range(len(self.W)):\n",
    "            distances = []\n",
    "            for j in range(len(self.W)):\n",
    "                distances.append(np.linalg.norm(self.W[i] - self.W[j]))\n",
    "            self.mean_distances.append(np.mean(distances))\n",
    "        \n",
    "        # -------------------------\n",
    "        # ETIQUETAS DE LAS NEURONAS\n",
    "        #\n",
    "        if y:\n",
    "            self.labels = pd.Series(y).unique()\n",
    "            self.label_matrix = np.zeros((self._units, len(self.labels)))\n",
    "            \n",
    "            for xi, yi in zip(X,y):\n",
    "                nomrs = []\n",
    "                for W_j in self.W:\n",
    "                    nomrs.append(np.linalg.norm(xi - W_j))\n",
    "                wn = np.argmin(nomrs)\n",
    "\n",
    "                for j, decay_val in self.decay_values[wn]:\n",
    "                    self.label_matrix[j, yi] += decay_val \n",
    "            self._labeled = True\n",
    "            \n",
    "        # ------------------------------------------------------------\n",
    "        # CÁLCULO DEL ERROR DE CUANTIFICACION (QE: QUANTIZATION ERROR)\n",
    "        #\n",
    "        q_error = 0\n",
    "        for xi in X:\n",
    "            nomrs = []\n",
    "            for Wj in self.W:\n",
    "                nomrs.append(np.linalg.norm(xi - Wj))\n",
    "            wn = np.argmin(nomrs)\n",
    "            q_error += nomrs[wn]\n",
    "        self.quantization_error = q_error / len(X)\n",
    "        self._trained = True\n",
    "    \n",
    "    def compile(self):\n",
    "        \"\"\"\n",
    "        Este métod debe ser ejecutado antes de ejecutar el método 'self.fit()'.\n",
    "        \n",
    "        Este metodo inicializa la matriz de proximidad (self.proximity_matrix) se inicializa con valores de cero.\n",
    "        Posteriormente calcula todos los valores de proximidad de entre las neuronas en terminos del arreglo \n",
    "        matricial.\n",
    "        \n",
    "        Finalmente, se asignan los valors de decamiento para cada una de las combinaciones de neuronas \n",
    "        (neurona genadora y neurona proxima), donde las neuronas proximas son seleccinadas a partir del rango\n",
    "        definido por el parametro 'distance' del método constructor de cada una de las neuronas existentes.\n",
    "        \n",
    "        Los valores de decaimiento son almacenados por un diccionario. Para entender el formato del diccionario\n",
    "        ver self.decay_values en el docstring del metodo constructor en la sección de atributos.\n",
    "        \n",
    "        IMPORTANTE: \n",
    "            Este metodo puede tardar de manera considerable en función de las neuronas que componen la red SOM.\n",
    "        \"\"\"\n",
    "        self.proximity_matrix = np.zeros((self._units,self._units))\n",
    "        for k1 in range(self._units):\n",
    "            for k2 in range(k1):\n",
    "                vect_k1 = self._coordinates_ij(k1)\n",
    "                vect_k2 = self._coordinates_ij(k2)\n",
    "                distance = np.linalg.norm(vect_k1 - vect_k2)\n",
    "                self.proximity_matrix[k1,k2] = self.proximity_matrix[k2,k1] = distance\n",
    "                \n",
    "        for k1 in range(self._units):\n",
    "            neurons_decays = []\n",
    "            for k2 in range(self._units):\n",
    "                proximity = self.proximity_matrix[k1,k2]\n",
    "                if self._distance >= proximity:\n",
    "                    neurons_decays.append((k2,self._decay_function(proximity))) \n",
    "            self.decay_values[k1] = neurons_decays\n",
    "        self._compiled = True    \n",
    "    \n",
    "    \n",
    "    def _coordinates_ij(self, k):\n",
    "        \"\"\"\n",
    "        Este método permite obtener la cardinalidad de cada neurona bajo una representación matricial.\n",
    "        Ya que esta clase implementa el conjunto de neuronas como un vector.\n",
    "        \n",
    "        Parametros:\n",
    "        -----------\n",
    "        \n",
    "            k: int\n",
    "                Posición de la neurona en el vector 'self.W'\n",
    "            \n",
    "        \"\"\"\n",
    "        i = k // self._widht\n",
    "        j = k % self._widht\n",
    "        return np.array([i,j])\n",
    "    \n",
    "    def _decay_function(self, dist):\n",
    "        \"\"\"\n",
    "        La función de decaimiento.\n",
    "        \n",
    "        Parametro:\n",
    "        ----------\n",
    "        \n",
    "            dist: float\n",
    "                Distancia con la cual obtiene el valor de decaimiento.\n",
    "        \"\"\"\n",
    "        return math.e**(-dist)\n",
    "    \n",
    "    def _update(self, W_j, x_i, decay_val):\n",
    "        \"\"\"\n",
    "        Función para la actualización del peso de las neuronas, en esta se contempla el valor de decaimiento\n",
    "        en el proceso de actualización.\n",
    "        \"\"\"\n",
    "        return W_j + self._alpha * (decay_val * (x_i - W_j))\n",
    "    \n",
    "    def plot(self, name = \"\", som_map = \"distance\", ticklabels = None, figsize=(7, 4), \n",
    "             distance_cmap = 'gray_r', labeled_cmap = None):\n",
    "        \"\"\"\n",
    "        Metodo para plotear la gráfica de panal de abeja.\n",
    "        \n",
    "        Esta gráfica puede esta basada en un vector de distancias o en un vector de etiquetas de clase\n",
    "        según el entrenamiento del estimador.\n",
    "        \n",
    "        parametros:\n",
    "        -----------\n",
    "        \n",
    "            name: str\n",
    "                Nombre de la gráfica.\n",
    "                \n",
    "            som_map: str\n",
    "                Tipo de mapa a proyectar. \n",
    "                'distance': Mapa de distancias entre las neuronas\n",
    "                'labeled' : MApa de coloración. Solo funcióna cuando se ha entrenado con etiquetas de clase.\n",
    "            \n",
    "            ticklabels: list, default None.\n",
    "                Nombre de las etiquetas de clase\n",
    "            \n",
    "            figsize: tuple\n",
    "                Tamaño de la figura.\n",
    "            \n",
    "            distance_cmap:\n",
    "                cmap para la coloración del mapa cuando el valor de 'som_map' es igual a 'distance'.\n",
    "            \n",
    "            labeled_cmap:\n",
    "                cmap para la coloración del mapa cuando el valor de 'som_map' es igual a 'labeled'.\n",
    "        \"\"\"\n",
    "        assert self._compiled, \"No se ha compilado la red neuronal (SOM) :(\"\n",
    "        assert self._trained, \"No se ha entrenado la red :(\"\n",
    "        if ticklabels:\n",
    "            assert len(self.labels)==len(ticklabels), \"'ticklabels' no es de igual longitud que 'self.labels'\"\n",
    "            \n",
    "        gridsize = max(self._widht,self._hight)\n",
    "        x = []\n",
    "        y = []\n",
    "        if som_map == \"distance\":\n",
    "            fig = plt.figure(figsize=figsize)\n",
    "            for k_neuron in range(self._units):\n",
    "                i,j = self._coordinates_ij(k_neuron)\n",
    "                x.append(j)\n",
    "                y.append(i)\n",
    "\n",
    "            hb = plt.hexbin(x, y, C = self.mean_distances, gridsize = gridsize, cmap = distance_cmap)\n",
    "            plt.title(\"Mean Distance\")\n",
    "            cb = fig.colorbar(hb)\n",
    "            cb.set_label('Distance')\n",
    "\n",
    "        elif som_map == \"labeled\":\n",
    "            assert self._labeled, \"No se especificaron etiquetas durante el entrenamiento\"\n",
    "            fig = plt.figure(figsize=figsize)\n",
    "            label_neurons = []\n",
    "            for k_neuron in range(self._units):\n",
    "                i,j = self._coordinates_ij(k_neuron)\n",
    "                W_k = self.label_matrix[k_neuron]\n",
    "                if W_k.sum():\n",
    "                    x.append(j)\n",
    "                    y.append(i)\n",
    "                    label_neurons.append(np.argmax(W_k))\n",
    "\n",
    "            hb = plt.hexbin(x, y, C=label_neurons, gridsize = gridsize, cmap = labeled_cmap)\n",
    "            plt.title(f\"{name} SOM\")\n",
    "            cb = fig.colorbar(hb)\n",
    "            cb.set_label('label')\n",
    "            cb.set_ticks(ticks=self.labels)\n",
    "            if ticklabels:\n",
    "                cb.set_ticklabels(ticklabels=ticklabels)\n",
    "        else:\n",
    "            raise ValueError(\"El valor del parámetro 'som_map' no es correcto :(\")\n",
    "        plt.show()"
   ]
  },
  {
   "cell_type": "markdown",
   "metadata": {},
   "source": [
    "## Quick Test"
   ]
  },
  {
   "cell_type": "code",
   "execution_count": 41,
   "metadata": {},
   "outputs": [],
   "source": [
    "som = SOM2D(5,5, alpha = 0.01, distance = 1 , epochs= 100)\n",
    "som.compile()\n",
    "som.fit(data,y)"
   ]
  },
  {
   "cell_type": "code",
   "execution_count": 42,
   "metadata": {
    "scrolled": true
   },
   "outputs": [
    {
     "data": {
      "image/png": "[encoded data removed]",
      "text/plain": [
       "<Figure size 432x288 with 1 Axes>"
      ]
     },
     "metadata": {},
     "output_type": "display_data"
    }
   ],
   "source": [
    "plt.scatter(data[:,0],data[:,1],c=y,s=40);\n",
    "plt.scatter(som.W[:,0],som.W[:,1],s=200, marker = \"+\",c=[(1,0,0)]*len(som.W));\n",
    "plt.scatter(som.W_old[:,0],som.W_old[:,1],s=10, marker = \"s\",c=[\"r\"]*len(som.W));"
   ]
  },
  {
   "cell_type": "markdown",
   "metadata": {},
   "source": [
    "## Mapas"
   ]
  },
  {
   "cell_type": "code",
   "execution_count": 43,
   "metadata": {},
   "outputs": [
    {
     "data": {
      "image/png": "[encoded data removed]",
      "text/plain": [
       "<Figure size 504x288 with 2 Axes>"
      ]
     },
     "metadata": {},
     "output_type": "display_data"
    }
   ],
   "source": [
    "som.plot()"
   ]
  },
  {
   "cell_type": "code",
   "execution_count": 44,
   "metadata": {
    "scrolled": true
   },
   "outputs": [
    {
     "data": {
      "image/png": "[encoded data removed]",
      "text/plain": [
       "<Figure size 504x288 with 2 Axes>"
      ]
     },
     "metadata": {},
     "output_type": "display_data"
    }
   ],
   "source": [
    "som.plot(som_map=\"labeled\")"
   ]
  },
  {
   "cell_type": "markdown",
   "metadata": {},
   "source": [
    "## Quantization Error"
   ]
  },
  {
   "cell_type": "code",
   "execution_count": 46,
   "metadata": {},
   "outputs": [
    {
     "data": {
      "text/plain": [
       "0.07856338704247315"
      ]
     },
     "execution_count": 46,
     "metadata": {},
     "output_type": "execute_result"
    }
   ],
   "source": [
    "som.quantization_error"
   ]
  },
  {
   "cell_type": "code",
   "execution_count": 47,
   "metadata": {},
   "outputs": [
    {
     "data": {
      "text/plain": [
       "2.718281828459045"
      ]
     },
     "execution_count": 47,
     "metadata": {},
     "output_type": "execute_result"
    }
   ],
   "source": [
    "math.e"
   ]
  },
  {
   "cell_type": "code",
   "execution_count": null,
   "metadata": {},
   "outputs": [],
   "source": []
  }
 ],
 "metadata": {
  "kernelspec": {
   "display_name": "Python 3",
   "language": "python",
   "name": "python3"
  },
  "language_info": {
   "codemirror_mode": {
    "name": "ipython",
    "version": 3
   },
   "file_extension": ".py",
   "mimetype": "text/x-python",
   "name": "python",
   "nbconvert_exporter": "python",
   "pygments_lexer": "ipython3",
   "version": "3.6.5"
  }
 },
 "nbformat": 4,
 "nbformat_minor": 2
}
